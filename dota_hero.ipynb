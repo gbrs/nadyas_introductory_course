{
 "cells": [
  {
   "cell_type": "code",
   "execution_count": null,
   "id": "c33ff924-bf5d-43a7-be70-d5bdff2bebab",
   "metadata": {},
   "outputs": [],
   "source": []
  },
  {
   "cell_type": "markdown",
   "id": "de81a1a8-3560-49f0-8ad8-9566dbac63f9",
   "metadata": {},
   "source": [
    "Импортировать библиотеки"
   ]
  },
  {
   "cell_type": "code",
   "execution_count": null,
   "id": "e9924628-cd1a-438e-8895-76a650b4b59e",
   "metadata": {},
   "outputs": [],
   "source": []
  },
  {
   "cell_type": "markdown",
   "id": "24fc155b-1712-4bb3-808f-b31b54aea4a9",
   "metadata": {},
   "source": [
    "Настройки диаграмм и отображения колонок"
   ]
  },
  {
   "cell_type": "code",
   "execution_count": 2,
   "id": "82d2b79f-7866-4eb6-97bc-a6b45007bc6a",
   "metadata": {},
   "outputs": [],
   "source": [
    "sns.set()\n",
    "pd.set_option('display.max_columns', None)"
   ]
  },
  {
   "cell_type": "code",
   "execution_count": null,
   "id": "8ae088e7-ba22-49b0-b689-0609536759a6",
   "metadata": {},
   "outputs": [],
   "source": []
  },
  {
   "cell_type": "markdown",
   "id": "17fefc1e-eb53-4903-95fa-e91f3d5c6d27",
   "metadata": {},
   "source": [
    "Прочитать данные из файла dota_hero_stats.csv и положить в датафрейм"
   ]
  },
  {
   "cell_type": "code",
   "execution_count": null,
   "id": "92703f0a-3878-4e08-84fc-bbe4e697e996",
   "metadata": {},
   "outputs": [],
   "source": []
  },
  {
   "cell_type": "markdown",
   "id": "7575e266-908e-4c57-85fb-30a37a2d4eb4",
   "metadata": {},
   "source": [
    "Посмотреть датафрейм"
   ]
  },
  {
   "cell_type": "code",
   "execution_count": null,
   "id": "d8a0e146-1602-4952-91db-0e96ad49447e",
   "metadata": {},
   "outputs": [],
   "source": []
  },
  {
   "cell_type": "code",
   "execution_count": null,
   "id": "2e1b0999-56bb-416d-a0c0-84931ea1f8bc",
   "metadata": {},
   "outputs": [],
   "source": []
  },
  {
   "cell_type": "markdown",
   "id": "4783b54d-9cc9-4e48-bcaf-c0568e0c4403",
   "metadata": {},
   "source": [
    "Удалить лишние столбцы"
   ]
  },
  {
   "cell_type": "code",
   "execution_count": null,
   "id": "fe85f6a5-14a2-45a5-a7df-b88b1769435e",
   "metadata": {},
   "outputs": [],
   "source": []
  },
  {
   "cell_type": "markdown",
   "id": "9d045e1a-3e9f-40d0-9534-29d87b7ba5af",
   "metadata": {},
   "source": [
    "Использовать в качестве индекса колонку id"
   ]
  },
  {
   "cell_type": "code",
   "execution_count": null,
   "id": "94d0749f-59e6-48f1-80e2-d5e2aff6c988",
   "metadata": {},
   "outputs": [],
   "source": []
  },
  {
   "cell_type": "code",
   "execution_count": null,
   "id": "c8302972-6f99-4dd9-979c-eb3efd0d38e1",
   "metadata": {},
   "outputs": [],
   "source": []
  },
  {
   "cell_type": "markdown",
   "id": "3ea0f62c-bc0c-419d-bb51-cdfac5d22586",
   "metadata": {},
   "source": [
    "Посмотреть информацию о данных в столбцах"
   ]
  },
  {
   "cell_type": "code",
   "execution_count": null,
   "id": "8bd9a7da-22c6-4f69-8844-d9e8179ee17f",
   "metadata": {},
   "outputs": [],
   "source": []
  },
  {
   "cell_type": "markdown",
   "id": "498f3cee-4ce9-410f-9aca-ea1dc92a2a6f",
   "metadata": {},
   "source": [
    "Есть ли нулевые значения?"
   ]
  },
  {
   "cell_type": "code",
   "execution_count": null,
   "id": "518aaa36-5e9f-4039-85b0-c58185b7ecff",
   "metadata": {},
   "outputs": [],
   "source": []
  },
  {
   "cell_type": "code",
   "execution_count": null,
   "id": "640982c4-8c00-4f40-85f8-fe1e8335a5c2",
   "metadata": {},
   "outputs": [],
   "source": []
  },
  {
   "cell_type": "markdown",
   "id": "f9b33364-447f-4575-ba35-87f6544f50a2",
   "metadata": {},
   "source": [
    "Посмотреть статистику по числовым столбикам"
   ]
  },
  {
   "cell_type": "code",
   "execution_count": null,
   "id": "7c3a3c17-261e-43d9-82a8-14472cfbda80",
   "metadata": {},
   "outputs": [],
   "source": []
  },
  {
   "cell_type": "markdown",
   "id": "99d2168f-42f6-4680-bb2b-c5683a8a8631",
   "metadata": {},
   "source": [
    "Какое количество уникальных значений в числовом столбике"
   ]
  },
  {
   "cell_type": "code",
   "execution_count": null,
   "id": "8bbbc14d-12cb-4b8d-ac7c-a87d2f68b313",
   "metadata": {},
   "outputs": [],
   "source": []
  },
  {
   "cell_type": "markdown",
   "id": "49c382d6-d8a2-44a7-929e-199496ea595a",
   "metadata": {},
   "source": [
    "Какие уникальные значения в числовых столбиках"
   ]
  },
  {
   "cell_type": "code",
   "execution_count": null,
   "id": "c11519a5-ee62-40e8-ab8a-dd5d3d5379ef",
   "metadata": {},
   "outputs": [],
   "source": []
  },
  {
   "cell_type": "markdown",
   "id": "a2df53c9-78e9-4300-855f-c0b697c3324b",
   "metadata": {},
   "source": [
    "Посмотреть статистику по нечисловым столбикам"
   ]
  },
  {
   "cell_type": "code",
   "execution_count": null,
   "id": "4e78167f-0dcc-498b-bf08-f4f860e73e33",
   "metadata": {},
   "outputs": [],
   "source": []
  },
  {
   "cell_type": "code",
   "execution_count": null,
   "id": "9d1699f9-91f1-4348-a749-7d157fef7db9",
   "metadata": {},
   "outputs": [],
   "source": []
  },
  {
   "cell_type": "markdown",
   "id": "85434816-4ad7-42f0-afa7-a0671e2ea787",
   "metadata": {},
   "source": [
    "Посчитать сколько персонажей по разным attack_type"
   ]
  },
  {
   "cell_type": "code",
   "execution_count": null,
   "id": "62308185-25c6-4b13-a1d2-0f60d7db8e7e",
   "metadata": {},
   "outputs": [],
   "source": []
  },
  {
   "cell_type": "markdown",
   "id": "b243fd75-0bb3-4c7f-892a-ac962d73e9a5",
   "metadata": {},
   "source": [
    "Построить pie диаграмму"
   ]
  },
  {
   "cell_type": "code",
   "execution_count": null,
   "id": "ed6330ac-e79d-44cc-99f1-3f9d797884b6",
   "metadata": {},
   "outputs": [],
   "source": []
  },
  {
   "cell_type": "markdown",
   "id": "70a37506-67bf-4a59-8b60-24b452d001bc",
   "metadata": {},
   "source": [
    "Построить барплот"
   ]
  },
  {
   "cell_type": "code",
   "execution_count": null,
   "id": "96c8b257-48c0-4d4a-8ea6-3ca36250a30d",
   "metadata": {},
   "outputs": [],
   "source": []
  },
  {
   "cell_type": "code",
   "execution_count": null,
   "id": "c121dcfa-43cd-4fac-9f6b-fa6375f218ad",
   "metadata": {},
   "outputs": [],
   "source": []
  },
  {
   "cell_type": "markdown",
   "id": "1a0dfa6e-4d30-4728-99ff-1c5c9e4d1160",
   "metadata": {},
   "source": [
    "Посчитать сколько персонажей по разным primary_attr"
   ]
  },
  {
   "cell_type": "code",
   "execution_count": null,
   "id": "36265faf-0ed0-4798-a06c-7b39e0698e20",
   "metadata": {},
   "outputs": [],
   "source": []
  },
  {
   "cell_type": "markdown",
   "id": "78915143-f6e1-4de8-88a5-1daebb673141",
   "metadata": {},
   "source": [
    "Построить pie диаграмму"
   ]
  },
  {
   "cell_type": "code",
   "execution_count": null,
   "id": "714a764f-0434-4bf5-b028-85f22b8163ef",
   "metadata": {},
   "outputs": [],
   "source": []
  },
  {
   "cell_type": "markdown",
   "id": "7eea6d48-08f8-49ac-b3b0-6ae355780e9e",
   "metadata": {},
   "source": [
    "Построить барплот"
   ]
  },
  {
   "cell_type": "code",
   "execution_count": null,
   "id": "300f68cc-c6d6-43d2-a4ea-3e73d2bdd867",
   "metadata": {},
   "outputs": [],
   "source": []
  },
  {
   "cell_type": "code",
   "execution_count": null,
   "id": "da731653-2af5-416f-8cd6-e9b906e5d7be",
   "metadata": {},
   "outputs": [],
   "source": []
  },
  {
   "cell_type": "markdown",
   "id": "c94f24bf-b950-47bd-a24c-2c47b78ecef3",
   "metadata": {},
   "source": [
    "Сделать сводную таблицу name-atack_type-primary_attr"
   ]
  },
  {
   "cell_type": "code",
   "execution_count": null,
   "id": "2c858fe5-41e9-482a-a06f-c10e05b6c296",
   "metadata": {},
   "outputs": [],
   "source": []
  },
  {
   "cell_type": "markdown",
   "id": "7870bf0f-ad2a-48ec-9d31-e713aa7ffabd",
   "metadata": {},
   "source": [
    "Оформить красиво таблицу"
   ]
  },
  {
   "cell_type": "code",
   "execution_count": null,
   "id": "6e32be3a-9725-484b-bdfe-41e689d027b4",
   "metadata": {},
   "outputs": [],
   "source": []
  },
  {
   "cell_type": "code",
   "execution_count": null,
   "id": "6dca46a0-767b-43a8-8834-76df92ae07b9",
   "metadata": {},
   "outputs": [],
   "source": []
  },
  {
   "cell_type": "markdown",
   "id": "924f88af-d156-42ef-96ab-06733ccef02b",
   "metadata": {},
   "source": [
    "Сделать сводную таблицу legs-atack_type-primary_attr"
   ]
  },
  {
   "cell_type": "code",
   "execution_count": null,
   "id": "bb543a90-e851-4899-8b5d-c402d1b535bf",
   "metadata": {},
   "outputs": [],
   "source": []
  },
  {
   "cell_type": "markdown",
   "id": "74e3d118-4f44-4c15-8d1f-15bc91175e8f",
   "metadata": {},
   "source": [
    "Оформить красиво таблицу"
   ]
  },
  {
   "cell_type": "code",
   "execution_count": null,
   "id": "1eb6440b-acbe-4e48-87e8-3f2fa02737cb",
   "metadata": {},
   "outputs": [],
   "source": []
  },
  {
   "cell_type": "code",
   "execution_count": null,
   "id": "5bc33054-c9be-4b72-8cb3-a6ef44af8ec6",
   "metadata": {},
   "outputs": [],
   "source": []
  },
  {
   "cell_type": "code",
   "execution_count": null,
   "id": "69537ff0-645a-49bf-aca2-a0256d03d20a",
   "metadata": {},
   "outputs": [],
   "source": []
  },
  {
   "cell_type": "code",
   "execution_count": null,
   "id": "de1b05fa-818e-4ffe-9e18-b647d875d00d",
   "metadata": {},
   "outputs": [],
   "source": []
  },
  {
   "cell_type": "code",
   "execution_count": null,
   "id": "6d8f944a-0368-4d01-808d-20f6eb9e5d6f",
   "metadata": {},
   "outputs": [],
   "source": []
  },
  {
   "cell_type": "code",
   "execution_count": null,
   "id": "9b88fa5c-c41f-4d4c-b48b-057e40fc3ab2",
   "metadata": {},
   "outputs": [],
   "source": []
  },
  {
   "cell_type": "code",
   "execution_count": null,
   "id": "7707cb07-3424-4de1-a3c5-4ef3dc449d15",
   "metadata": {},
   "outputs": [],
   "source": []
  },
  {
   "cell_type": "code",
   "execution_count": null,
   "id": "beb44a5d-4ece-4091-8ee3-297af25f280c",
   "metadata": {},
   "outputs": [],
   "source": []
  },
  {
   "cell_type": "code",
   "execution_count": null,
   "id": "bb267f04-91fc-430a-a2cd-e5f05c604a76",
   "metadata": {},
   "outputs": [],
   "source": []
  },
  {
   "cell_type": "markdown",
   "id": "d21cfca2-379b-4106-ba98-f68de9a2193d",
   "metadata": {},
   "source": [
    "Импортировать библиотеки"
   ]
  },
  {
   "cell_type": "code",
   "execution_count": 1,
   "id": "675d7aa4-0dc9-46ba-adfc-a20956df2512",
   "metadata": {},
   "outputs": [],
   "source": [
    "import numpy as np\n",
    "import pandas as pd\n",
    "import matplotlib.pyplot as plt\n",
    "import seaborn as sns"
   ]
  },
  {
   "cell_type": "markdown",
   "id": "8b29d3d2-8d62-4289-8d3c-c898c0727407",
   "metadata": {},
   "source": [
    "Настройки диаграмм и отображения колонок"
   ]
  },
  {
   "cell_type": "code",
   "execution_count": 2,
   "id": "407685de-023c-467e-94c9-3d9764d881cb",
   "metadata": {},
   "outputs": [],
   "source": [
    "sns.set()\n",
    "pd.set_option('display.max_columns', None)"
   ]
  },
  {
   "cell_type": "code",
   "execution_count": null,
   "id": "f571fcec-f345-40fc-9d16-018fdc6fe506",
   "metadata": {},
   "outputs": [],
   "source": []
  },
  {
   "cell_type": "markdown",
   "id": "1bb0d780-6656-4ce3-b8b1-cca6e156e9f7",
   "metadata": {},
   "source": [
    "Прочитать данные из файла dota_hero_stats.csv и положить в датафрейм"
   ]
  },
  {
   "cell_type": "code",
   "execution_count": 7,
   "id": "a18c74b6-2e9f-4f8d-a33a-c7f906cacefe",
   "metadata": {},
   "outputs": [],
   "source": [
    "df = pd.read_csv('dota_hero_stats.csv')"
   ]
  },
  {
   "cell_type": "markdown",
   "id": "f84f5333-f458-4a35-9e04-be7dd13dbe8c",
   "metadata": {},
   "source": [
    "Посмотреть датафрейм"
   ]
  },
  {
   "cell_type": "code",
   "execution_count": 8,
   "id": "e4f896cd-67aa-422d-abdb-4d03942deb34",
   "metadata": {},
   "outputs": [
    {
     "data": {
      "text/html": [
       "<div>\n",
       "<style scoped>\n",
       "    .dataframe tbody tr th:only-of-type {\n",
       "        vertical-align: middle;\n",
       "    }\n",
       "\n",
       "    .dataframe tbody tr th {\n",
       "        vertical-align: top;\n",
       "    }\n",
       "\n",
       "    .dataframe thead th {\n",
       "        text-align: right;\n",
       "    }\n",
       "</style>\n",
       "<table border=\"1\" class=\"dataframe\">\n",
       "  <thead>\n",
       "    <tr style=\"text-align: right;\">\n",
       "      <th></th>\n",
       "      <th>Unnamed: 0</th>\n",
       "      <th>Unnamed: 0.1</th>\n",
       "      <th>attack_type</th>\n",
       "      <th>id</th>\n",
       "      <th>legs</th>\n",
       "      <th>localized_name</th>\n",
       "      <th>name</th>\n",
       "      <th>primary_attr</th>\n",
       "      <th>roles</th>\n",
       "    </tr>\n",
       "  </thead>\n",
       "  <tbody>\n",
       "    <tr>\n",
       "      <th>0</th>\n",
       "      <td>0</td>\n",
       "      <td>0</td>\n",
       "      <td>Melee</td>\n",
       "      <td>1</td>\n",
       "      <td>2</td>\n",
       "      <td>Anti-Mage</td>\n",
       "      <td>npc_dota_hero_antimage</td>\n",
       "      <td>agi</td>\n",
       "      <td>['Carry', 'Escape', 'Nuker']</td>\n",
       "    </tr>\n",
       "    <tr>\n",
       "      <th>1</th>\n",
       "      <td>1</td>\n",
       "      <td>1</td>\n",
       "      <td>Melee</td>\n",
       "      <td>2</td>\n",
       "      <td>2</td>\n",
       "      <td>Axe</td>\n",
       "      <td>npc_dota_hero_axe</td>\n",
       "      <td>str</td>\n",
       "      <td>['Initiator', 'Durable', 'Disabler', 'Jungler']</td>\n",
       "    </tr>\n",
       "    <tr>\n",
       "      <th>2</th>\n",
       "      <td>2</td>\n",
       "      <td>2</td>\n",
       "      <td>Ranged</td>\n",
       "      <td>3</td>\n",
       "      <td>4</td>\n",
       "      <td>Bane</td>\n",
       "      <td>npc_dota_hero_bane</td>\n",
       "      <td>int</td>\n",
       "      <td>['Support', 'Disabler', 'Nuker', 'Durable']</td>\n",
       "    </tr>\n",
       "    <tr>\n",
       "      <th>3</th>\n",
       "      <td>3</td>\n",
       "      <td>3</td>\n",
       "      <td>Melee</td>\n",
       "      <td>4</td>\n",
       "      <td>2</td>\n",
       "      <td>Bloodseeker</td>\n",
       "      <td>npc_dota_hero_bloodseeker</td>\n",
       "      <td>agi</td>\n",
       "      <td>['Carry', 'Disabler', 'Jungler', 'Nuker', 'Ini...</td>\n",
       "    </tr>\n",
       "    <tr>\n",
       "      <th>4</th>\n",
       "      <td>4</td>\n",
       "      <td>4</td>\n",
       "      <td>Ranged</td>\n",
       "      <td>5</td>\n",
       "      <td>2</td>\n",
       "      <td>Crystal Maiden</td>\n",
       "      <td>npc_dota_hero_crystal_maiden</td>\n",
       "      <td>int</td>\n",
       "      <td>['Support', 'Disabler', 'Nuker', 'Jungler']</td>\n",
       "    </tr>\n",
       "  </tbody>\n",
       "</table>\n",
       "</div>"
      ],
      "text/plain": [
       "   Unnamed: 0  Unnamed: 0.1 attack_type  id  legs  localized_name  \\\n",
       "0           0             0       Melee   1     2       Anti-Mage   \n",
       "1           1             1       Melee   2     2             Axe   \n",
       "2           2             2      Ranged   3     4            Bane   \n",
       "3           3             3       Melee   4     2     Bloodseeker   \n",
       "4           4             4      Ranged   5     2  Crystal Maiden   \n",
       "\n",
       "                           name primary_attr  \\\n",
       "0        npc_dota_hero_antimage          agi   \n",
       "1             npc_dota_hero_axe          str   \n",
       "2            npc_dota_hero_bane          int   \n",
       "3     npc_dota_hero_bloodseeker          agi   \n",
       "4  npc_dota_hero_crystal_maiden          int   \n",
       "\n",
       "                                               roles  \n",
       "0                       ['Carry', 'Escape', 'Nuker']  \n",
       "1    ['Initiator', 'Durable', 'Disabler', 'Jungler']  \n",
       "2        ['Support', 'Disabler', 'Nuker', 'Durable']  \n",
       "3  ['Carry', 'Disabler', 'Jungler', 'Nuker', 'Ini...  \n",
       "4        ['Support', 'Disabler', 'Nuker', 'Jungler']  "
      ]
     },
     "execution_count": 8,
     "metadata": {},
     "output_type": "execute_result"
    }
   ],
   "source": [
    "df.head()"
   ]
  },
  {
   "cell_type": "code",
   "execution_count": null,
   "id": "b88f533b-f2ce-4725-9da4-101e6d5213dd",
   "metadata": {},
   "outputs": [],
   "source": []
  },
  {
   "cell_type": "markdown",
   "id": "b9001a3a-736c-43dd-96db-2ff40a77d4d7",
   "metadata": {},
   "source": [
    "Удалить лишние столбцы"
   ]
  },
  {
   "cell_type": "code",
   "execution_count": 4,
   "id": "63ec7c18-e259-4f34-a17b-c17082582942",
   "metadata": {},
   "outputs": [],
   "source": [
    "df = df.loc[:, 'attack_type':]"
   ]
  },
  {
   "cell_type": "markdown",
   "id": "4739aa80-9a29-4a38-9794-fa8671671f97",
   "metadata": {},
   "source": [
    "Использовать в качестве индекса колонку id"
   ]
  },
  {
   "cell_type": "code",
   "execution_count": 5,
   "id": "ea94bb65-8d9c-4e42-863e-a81668669fc3",
   "metadata": {},
   "outputs": [],
   "source": [
    "df = df.set_index('id')"
   ]
  },
  {
   "cell_type": "code",
   "execution_count": 6,
   "id": "081d1de9-1b1d-4a56-bd80-7eeb51544504",
   "metadata": {},
   "outputs": [
    {
     "data": {
      "text/html": [
       "<div>\n",
       "<style scoped>\n",
       "    .dataframe tbody tr th:only-of-type {\n",
       "        vertical-align: middle;\n",
       "    }\n",
       "\n",
       "    .dataframe tbody tr th {\n",
       "        vertical-align: top;\n",
       "    }\n",
       "\n",
       "    .dataframe thead th {\n",
       "        text-align: right;\n",
       "    }\n",
       "</style>\n",
       "<table border=\"1\" class=\"dataframe\">\n",
       "  <thead>\n",
       "    <tr style=\"text-align: right;\">\n",
       "      <th></th>\n",
       "      <th>attack_type</th>\n",
       "      <th>legs</th>\n",
       "      <th>localized_name</th>\n",
       "      <th>name</th>\n",
       "      <th>primary_attr</th>\n",
       "      <th>roles</th>\n",
       "    </tr>\n",
       "    <tr>\n",
       "      <th>id</th>\n",
       "      <th></th>\n",
       "      <th></th>\n",
       "      <th></th>\n",
       "      <th></th>\n",
       "      <th></th>\n",
       "      <th></th>\n",
       "    </tr>\n",
       "  </thead>\n",
       "  <tbody>\n",
       "    <tr>\n",
       "      <th>1</th>\n",
       "      <td>Melee</td>\n",
       "      <td>2</td>\n",
       "      <td>Anti-Mage</td>\n",
       "      <td>npc_dota_hero_antimage</td>\n",
       "      <td>agi</td>\n",
       "      <td>['Carry', 'Escape', 'Nuker']</td>\n",
       "    </tr>\n",
       "    <tr>\n",
       "      <th>2</th>\n",
       "      <td>Melee</td>\n",
       "      <td>2</td>\n",
       "      <td>Axe</td>\n",
       "      <td>npc_dota_hero_axe</td>\n",
       "      <td>str</td>\n",
       "      <td>['Initiator', 'Durable', 'Disabler', 'Jungler']</td>\n",
       "    </tr>\n",
       "    <tr>\n",
       "      <th>3</th>\n",
       "      <td>Ranged</td>\n",
       "      <td>4</td>\n",
       "      <td>Bane</td>\n",
       "      <td>npc_dota_hero_bane</td>\n",
       "      <td>int</td>\n",
       "      <td>['Support', 'Disabler', 'Nuker', 'Durable']</td>\n",
       "    </tr>\n",
       "    <tr>\n",
       "      <th>4</th>\n",
       "      <td>Melee</td>\n",
       "      <td>2</td>\n",
       "      <td>Bloodseeker</td>\n",
       "      <td>npc_dota_hero_bloodseeker</td>\n",
       "      <td>agi</td>\n",
       "      <td>['Carry', 'Disabler', 'Jungler', 'Nuker', 'Ini...</td>\n",
       "    </tr>\n",
       "    <tr>\n",
       "      <th>5</th>\n",
       "      <td>Ranged</td>\n",
       "      <td>2</td>\n",
       "      <td>Crystal Maiden</td>\n",
       "      <td>npc_dota_hero_crystal_maiden</td>\n",
       "      <td>int</td>\n",
       "      <td>['Support', 'Disabler', 'Nuker', 'Jungler']</td>\n",
       "    </tr>\n",
       "  </tbody>\n",
       "</table>\n",
       "</div>"
      ],
      "text/plain": [
       "   attack_type  legs  localized_name                          name  \\\n",
       "id                                                                   \n",
       "1        Melee     2       Anti-Mage        npc_dota_hero_antimage   \n",
       "2        Melee     2             Axe             npc_dota_hero_axe   \n",
       "3       Ranged     4            Bane            npc_dota_hero_bane   \n",
       "4        Melee     2     Bloodseeker     npc_dota_hero_bloodseeker   \n",
       "5       Ranged     2  Crystal Maiden  npc_dota_hero_crystal_maiden   \n",
       "\n",
       "   primary_attr                                              roles  \n",
       "id                                                                  \n",
       "1           agi                       ['Carry', 'Escape', 'Nuker']  \n",
       "2           str    ['Initiator', 'Durable', 'Disabler', 'Jungler']  \n",
       "3           int        ['Support', 'Disabler', 'Nuker', 'Durable']  \n",
       "4           agi  ['Carry', 'Disabler', 'Jungler', 'Nuker', 'Ini...  \n",
       "5           int        ['Support', 'Disabler', 'Nuker', 'Jungler']  "
      ]
     },
     "execution_count": 6,
     "metadata": {},
     "output_type": "execute_result"
    }
   ],
   "source": [
    "df.head()"
   ]
  },
  {
   "cell_type": "code",
   "execution_count": null,
   "id": "17d55cce-0ead-4c8c-bf34-f3a296379c74",
   "metadata": {},
   "outputs": [],
   "source": []
  },
  {
   "cell_type": "markdown",
   "id": "b066f7d2-a325-4dfa-9b67-e9fbf6a6fcdc",
   "metadata": {},
   "source": [
    "Посмотреть информацию о данных в столбцах"
   ]
  },
  {
   "cell_type": "code",
   "execution_count": 15,
   "id": "80206cb0-248c-48ae-8b47-9e5e6adb4e68",
   "metadata": {
    "tags": []
   },
   "outputs": [
    {
     "name": "stdout",
     "output_type": "stream",
     "text": [
      "<class 'pandas.core.frame.DataFrame'>\n",
      "Int64Index: 117 entries, 1 to 129\n",
      "Data columns (total 6 columns):\n",
      " #   Column          Non-Null Count  Dtype \n",
      "---  ------          --------------  ----- \n",
      " 0   attack_type     117 non-null    object\n",
      " 1   legs            117 non-null    int64 \n",
      " 2   localized_name  117 non-null    object\n",
      " 3   name            117 non-null    object\n",
      " 4   primary_attr    117 non-null    object\n",
      " 5   roles           117 non-null    object\n",
      "dtypes: int64(1), object(5)\n",
      "memory usage: 6.4+ KB\n"
     ]
    }
   ],
   "source": [
    "df.info()"
   ]
  },
  {
   "cell_type": "markdown",
   "id": "6f9c0ec0-2ed3-484c-89f7-10800ed273ed",
   "metadata": {},
   "source": [
    "Есть ли нулевые значения?"
   ]
  },
  {
   "cell_type": "code",
   "execution_count": 38,
   "id": "16d8962b-57ac-4b88-bf60-e0c5b879f8c4",
   "metadata": {},
   "outputs": [
    {
     "data": {
      "text/plain": [
       "attack_type       0\n",
       "legs              0\n",
       "localized_name    0\n",
       "name              0\n",
       "primary_attr      0\n",
       "roles             0\n",
       "dtype: int64"
      ]
     },
     "execution_count": 38,
     "metadata": {},
     "output_type": "execute_result"
    }
   ],
   "source": [
    "df.isnull().sum()"
   ]
  },
  {
   "cell_type": "code",
   "execution_count": null,
   "id": "251347be-12c4-4a77-bc9e-a98b00e25f66",
   "metadata": {},
   "outputs": [],
   "source": []
  },
  {
   "cell_type": "markdown",
   "id": "759d9638-e5ae-4ef2-9213-f54ca50a7813",
   "metadata": {},
   "source": [
    "Посмотреть статистику по числовым столбикам"
   ]
  },
  {
   "cell_type": "code",
   "execution_count": 7,
   "id": "9dbcf862-5aa7-4bce-a801-920fc74c5d9c",
   "metadata": {},
   "outputs": [
    {
     "data": {
      "text/html": [
       "<div>\n",
       "<style scoped>\n",
       "    .dataframe tbody tr th:only-of-type {\n",
       "        vertical-align: middle;\n",
       "    }\n",
       "\n",
       "    .dataframe tbody tr th {\n",
       "        vertical-align: top;\n",
       "    }\n",
       "\n",
       "    .dataframe thead th {\n",
       "        text-align: right;\n",
       "    }\n",
       "</style>\n",
       "<table border=\"1\" class=\"dataframe\">\n",
       "  <thead>\n",
       "    <tr style=\"text-align: right;\">\n",
       "      <th></th>\n",
       "      <th>legs</th>\n",
       "    </tr>\n",
       "  </thead>\n",
       "  <tbody>\n",
       "    <tr>\n",
       "      <th>count</th>\n",
       "      <td>117.000000</td>\n",
       "    </tr>\n",
       "    <tr>\n",
       "      <th>mean</th>\n",
       "      <td>2.085470</td>\n",
       "    </tr>\n",
       "    <tr>\n",
       "      <th>std</th>\n",
       "      <td>1.156486</td>\n",
       "    </tr>\n",
       "    <tr>\n",
       "      <th>min</th>\n",
       "      <td>0.000000</td>\n",
       "    </tr>\n",
       "    <tr>\n",
       "      <th>25%</th>\n",
       "      <td>2.000000</td>\n",
       "    </tr>\n",
       "    <tr>\n",
       "      <th>50%</th>\n",
       "      <td>2.000000</td>\n",
       "    </tr>\n",
       "    <tr>\n",
       "      <th>75%</th>\n",
       "      <td>2.000000</td>\n",
       "    </tr>\n",
       "    <tr>\n",
       "      <th>max</th>\n",
       "      <td>8.000000</td>\n",
       "    </tr>\n",
       "  </tbody>\n",
       "</table>\n",
       "</div>"
      ],
      "text/plain": [
       "             legs\n",
       "count  117.000000\n",
       "mean     2.085470\n",
       "std      1.156486\n",
       "min      0.000000\n",
       "25%      2.000000\n",
       "50%      2.000000\n",
       "75%      2.000000\n",
       "max      8.000000"
      ]
     },
     "execution_count": 7,
     "metadata": {},
     "output_type": "execute_result"
    }
   ],
   "source": [
    "df.describe()"
   ]
  },
  {
   "cell_type": "markdown",
   "id": "d5f8e082-c53e-4ae8-b1e1-5d9e479e4952",
   "metadata": {},
   "source": [
    "Какое количество уникальных значений в числовом столбике"
   ]
  },
  {
   "cell_type": "code",
   "execution_count": 22,
   "id": "2fa4f278-eb81-4b8e-ad0d-30c04f43fecf",
   "metadata": {
    "tags": []
   },
   "outputs": [
    {
     "data": {
      "text/plain": [
       "5"
      ]
     },
     "execution_count": 22,
     "metadata": {},
     "output_type": "execute_result"
    }
   ],
   "source": [
    "df.legs.nunique()"
   ]
  },
  {
   "cell_type": "markdown",
   "id": "c7c95633-3fdf-49e4-9230-cfc335737738",
   "metadata": {},
   "source": [
    "Какие уникальные значения в числовых столбиках"
   ]
  },
  {
   "cell_type": "code",
   "execution_count": 21,
   "id": "a7e1bd61-fc31-4e46-b764-ec4e21174bcd",
   "metadata": {},
   "outputs": [
    {
     "data": {
      "text/plain": [
       "array([2, 4, 0, 6, 8], dtype=int64)"
      ]
     },
     "execution_count": 21,
     "metadata": {},
     "output_type": "execute_result"
    }
   ],
   "source": [
    "df.legs.unique()"
   ]
  },
  {
   "cell_type": "markdown",
   "id": "38b8c0b2-e840-443e-a6f3-4d7251146200",
   "metadata": {},
   "source": [
    "Посмотреть статистику по нечисловым столбикам"
   ]
  },
  {
   "cell_type": "code",
   "execution_count": 8,
   "id": "212d1696-e475-4e3f-bf87-55accbc4de7d",
   "metadata": {},
   "outputs": [
    {
     "data": {
      "text/html": [
       "<div>\n",
       "<style scoped>\n",
       "    .dataframe tbody tr th:only-of-type {\n",
       "        vertical-align: middle;\n",
       "    }\n",
       "\n",
       "    .dataframe tbody tr th {\n",
       "        vertical-align: top;\n",
       "    }\n",
       "\n",
       "    .dataframe thead th {\n",
       "        text-align: right;\n",
       "    }\n",
       "</style>\n",
       "<table border=\"1\" class=\"dataframe\">\n",
       "  <thead>\n",
       "    <tr style=\"text-align: right;\">\n",
       "      <th></th>\n",
       "      <th>attack_type</th>\n",
       "      <th>localized_name</th>\n",
       "      <th>name</th>\n",
       "      <th>primary_attr</th>\n",
       "      <th>roles</th>\n",
       "    </tr>\n",
       "  </thead>\n",
       "  <tbody>\n",
       "    <tr>\n",
       "      <th>count</th>\n",
       "      <td>117</td>\n",
       "      <td>117</td>\n",
       "      <td>117</td>\n",
       "      <td>117</td>\n",
       "      <td>117</td>\n",
       "    </tr>\n",
       "    <tr>\n",
       "      <th>unique</th>\n",
       "      <td>2</td>\n",
       "      <td>117</td>\n",
       "      <td>117</td>\n",
       "      <td>3</td>\n",
       "      <td>100</td>\n",
       "    </tr>\n",
       "    <tr>\n",
       "      <th>top</th>\n",
       "      <td>Ranged</td>\n",
       "      <td>Axe</td>\n",
       "      <td>npc_dota_hero_visage</td>\n",
       "      <td>int</td>\n",
       "      <td>['Carry', 'Disabler', 'Initiator', 'Durable', ...</td>\n",
       "    </tr>\n",
       "    <tr>\n",
       "      <th>freq</th>\n",
       "      <td>61</td>\n",
       "      <td>1</td>\n",
       "      <td>1</td>\n",
       "      <td>42</td>\n",
       "      <td>3</td>\n",
       "    </tr>\n",
       "  </tbody>\n",
       "</table>\n",
       "</div>"
      ],
      "text/plain": [
       "       attack_type localized_name                  name primary_attr  \\\n",
       "count          117            117                   117          117   \n",
       "unique           2            117                   117            3   \n",
       "top         Ranged            Axe  npc_dota_hero_visage          int   \n",
       "freq            61              1                     1           42   \n",
       "\n",
       "                                                    roles  \n",
       "count                                                 117  \n",
       "unique                                                100  \n",
       "top     ['Carry', 'Disabler', 'Initiator', 'Durable', ...  \n",
       "freq                                                    3  "
      ]
     },
     "execution_count": 8,
     "metadata": {},
     "output_type": "execute_result"
    }
   ],
   "source": [
    "df.describe(include='object')"
   ]
  },
  {
   "cell_type": "code",
   "execution_count": null,
   "id": "b5be398e-3f09-4160-9df0-0ee9c957cf31",
   "metadata": {},
   "outputs": [],
   "source": []
  },
  {
   "cell_type": "markdown",
   "id": "0bc64c38-fb34-4310-a8af-57cdc05021e2",
   "metadata": {},
   "source": [
    "Посчитать сколько персонажей по разным attack_type"
   ]
  },
  {
   "cell_type": "code",
   "execution_count": 13,
   "id": "03c8db73-a823-4916-82a2-bf448e31d1dd",
   "metadata": {},
   "outputs": [
    {
     "data": {
      "text/plain": [
       "Ranged    61\n",
       "Melee     56\n",
       "Name: attack_type, dtype: int64"
      ]
     },
     "execution_count": 13,
     "metadata": {},
     "output_type": "execute_result"
    }
   ],
   "source": [
    "df.attack_type.value_counts()"
   ]
  },
  {
   "cell_type": "markdown",
   "id": "5e1478dd-8d1f-49e5-9f8f-262c14e8f66d",
   "metadata": {},
   "source": [
    "Построить pie диаграмму"
   ]
  },
  {
   "cell_type": "code",
   "execution_count": 12,
   "id": "16b4e0f0-51a3-4258-93ec-e8e461b9c1f5",
   "metadata": {},
   "outputs": [
    {
     "data": {
      "image/png": "[encoded data removed]",
      "text/plain": [
       "<Figure size 432x288 with 1 Axes>"
      ]
     },
     "metadata": {},
     "output_type": "display_data"
    }
   ],
   "source": [
    "df.attack_type.value_counts().plot.pie();"
   ]
  },
  {
   "cell_type": "markdown",
   "id": "98e4d127-f519-4ee5-94ea-b6f4949c2682",
   "metadata": {},
   "source": [
    "Построить барплот"
   ]
  },
  {
   "cell_type": "code",
   "execution_count": 15,
   "id": "be3551cd-9b2e-4c9d-8d2b-bf4d6f0ac051",
   "metadata": {},
   "outputs": [
    {
     "data": {
      "image/png": "[encoded data removed]",
      "text/plain": [
       "<Figure size 432x288 with 1 Axes>"
      ]
     },
     "metadata": {},
     "output_type": "display_data"
    }
   ],
   "source": [
    "sns.countplot(data=df, y='attack_type');"
   ]
  },
  {
   "cell_type": "code",
   "execution_count": null,
   "id": "fbf0e5aa-adfe-4d69-b470-c2b2f323f63c",
   "metadata": {},
   "outputs": [],
   "source": []
  },
  {
   "cell_type": "markdown",
   "id": "59a76a50-6f0c-4fa7-994d-e36e7339b60f",
   "metadata": {},
   "source": [
    "Посчитать сколько персонажей по разным primary_attr"
   ]
  },
  {
   "cell_type": "code",
   "execution_count": 17,
   "id": "4e2f7248-1217-40f3-baf7-903aebcf6652",
   "metadata": {
    "tags": []
   },
   "outputs": [
    {
     "data": {
      "text/plain": [
       "int    42\n",
       "str    38\n",
       "agi    37\n",
       "Name: primary_attr, dtype: int64"
      ]
     },
     "execution_count": 17,
     "metadata": {},
     "output_type": "execute_result"
    }
   ],
   "source": [
    "df.primary_attr.value_counts()"
   ]
  },
  {
   "cell_type": "markdown",
   "id": "1bd34a7d-a712-4bff-a687-e9e11334698c",
   "metadata": {},
   "source": [
    "Построить pie диаграмму"
   ]
  },
  {
   "cell_type": "code",
   "execution_count": 19,
   "id": "c4e00099-783f-426a-82d8-5a9891c86729",
   "metadata": {},
   "outputs": [
    {
     "data": {
      "image/png": "[encoded data removed]",
      "text/plain": [
       "<Figure size 432x288 with 1 Axes>"
      ]
     },
     "metadata": {},
     "output_type": "display_data"
    }
   ],
   "source": [
    "df.primary_attr.value_counts().plot.pie();"
   ]
  },
  {
   "cell_type": "markdown",
   "id": "6ee465c0-f160-4b5a-93f8-2c52781b2156",
   "metadata": {},
   "source": [
    "Построить барплот"
   ]
  },
  {
   "cell_type": "code",
   "execution_count": 20,
   "id": "583935d7-c937-4ab8-8574-34d1288147c9",
   "metadata": {
    "tags": []
   },
   "outputs": [
    {
     "data": {
      "image/png": "[encoded data removed]",
      "text/plain": [
       "<Figure size 432x288 with 1 Axes>"
      ]
     },
     "metadata": {},
     "output_type": "display_data"
    }
   ],
   "source": [
    "sns.countplot(data=df, x='primary_attr');"
   ]
  },
  {
   "cell_type": "code",
   "execution_count": null,
   "id": "75e0e602-84ec-45ed-8b31-1e7f68ddf0d0",
   "metadata": {},
   "outputs": [],
   "source": []
  },
  {
   "cell_type": "markdown",
   "id": "b7ed8780-bc58-4c3e-9b7f-29334653af06",
   "metadata": {},
   "source": [
    "Сделать сводную таблицу name-atack_type-primary_attr"
   ]
  },
  {
   "cell_type": "code",
   "execution_count": 10,
   "id": "c931d18b-9c7a-4de1-a8a0-55fc0490f261",
   "metadata": {},
   "outputs": [
    {
     "data": {
      "text/html": [
       "<div>\n",
       "<style scoped>\n",
       "    .dataframe tbody tr th:only-of-type {\n",
       "        vertical-align: middle;\n",
       "    }\n",
       "\n",
       "    .dataframe tbody tr th {\n",
       "        vertical-align: top;\n",
       "    }\n",
       "\n",
       "    .dataframe thead th {\n",
       "        text-align: right;\n",
       "    }\n",
       "</style>\n",
       "<table border=\"1\" class=\"dataframe\">\n",
       "  <thead>\n",
       "    <tr style=\"text-align: right;\">\n",
       "      <th>primary_attr</th>\n",
       "      <th>agi</th>\n",
       "      <th>int</th>\n",
       "      <th>str</th>\n",
       "    </tr>\n",
       "    <tr>\n",
       "      <th>attack_type</th>\n",
       "      <th></th>\n",
       "      <th></th>\n",
       "      <th></th>\n",
       "    </tr>\n",
       "  </thead>\n",
       "  <tbody>\n",
       "    <tr>\n",
       "      <th>Melee</th>\n",
       "      <td>19</td>\n",
       "      <td>2</td>\n",
       "      <td>35</td>\n",
       "    </tr>\n",
       "    <tr>\n",
       "      <th>Ranged</th>\n",
       "      <td>18</td>\n",
       "      <td>40</td>\n",
       "      <td>3</td>\n",
       "    </tr>\n",
       "  </tbody>\n",
       "</table>\n",
       "</div>"
      ],
      "text/plain": [
       "primary_attr  agi  int  str\n",
       "attack_type                \n",
       "Melee          19    2   35\n",
       "Ranged         18   40    3"
      ]
     },
     "execution_count": 10,
     "metadata": {},
     "output_type": "execute_result"
    }
   ],
   "source": [
    "pt1 = df.pivot_table('name', 'attack_type', 'primary_attr', aggfunc='count')\n",
    "pt1"
   ]
  },
  {
   "cell_type": "markdown",
   "id": "785df790-64d4-40e0-b5c5-60075b13f060",
   "metadata": {},
   "source": [
    "Оформить красиво таблицу"
   ]
  },
  {
   "cell_type": "code",
   "execution_count": 22,
   "id": "5a74a6d9-8cb3-4a22-801d-d4e0e62bb7ca",
   "metadata": {},
   "outputs": [
    {
     "data": {
      "image/png": "[encoded data removed]",
      "text/plain": [
       "<Figure size 400x200 with 2 Axes>"
      ]
     },
     "metadata": {},
     "output_type": "display_data"
    }
   ],
   "source": [
    "plt.figure(figsize=(4, 2))\n",
    "sns.heatmap(pt1, annot=True, cmap='crest');"
   ]
  },
  {
   "cell_type": "code",
   "execution_count": null,
   "id": "e755ff46-c769-43b3-9918-b25fa17e5eb6",
   "metadata": {},
   "outputs": [],
   "source": []
  },
  {
   "cell_type": "markdown",
   "id": "b0d8dd1f-cdfb-4d44-8956-b4085ba73bff",
   "metadata": {},
   "source": [
    "Сделать сводную таблицу legs-atack_type-primary_attr"
   ]
  },
  {
   "cell_type": "code",
   "execution_count": 15,
   "id": "ceffab58-2afd-4bb6-a52d-70b065efed48",
   "metadata": {
    "tags": []
   },
   "outputs": [],
   "source": [
    "pt2 = df.pivot_table('legs', 'attack_type', 'primary_attr')"
   ]
  },
  {
   "cell_type": "markdown",
   "id": "8a9b2f1c-9e23-4b50-949d-f1e4a9a7251d",
   "metadata": {},
   "source": [
    "Оформить красиво таблицу"
   ]
  },
  {
   "cell_type": "code",
   "execution_count": 23,
   "id": "2d24f368-4688-4566-8cd4-90a4aaaed2c6",
   "metadata": {},
   "outputs": [
    {
     "data": {
      "image/png": "[encoded data removed]",
      "text/plain": [
       "<Figure size 400x200 with 2 Axes>"
      ]
     },
     "metadata": {},
     "output_type": "display_data"
    }
   ],
   "source": [
    "plt.figure(figsize=(4, 2))\n",
    "sns.heatmap(pt2, annot=True, cmap='crest');"
   ]
  },
  {
   "cell_type": "code",
   "execution_count": null,
   "id": "6d8a20f2-f377-42c2-a903-1fc42f9101d7",
   "metadata": {},
   "outputs": [],
   "source": []
  },
  {
   "cell_type": "code",
   "execution_count": null,
   "id": "eeb8fe3c-d2bf-4aab-a06e-bfd8cbc41ea6",
   "metadata": {},
   "outputs": [],
   "source": []
  },
  {
   "cell_type": "code",
   "execution_count": null,
   "id": "c5906b90-9ef1-4d5d-bf51-e7dfcba12c4d",
   "metadata": {},
   "outputs": [],
   "source": []
  },
  {
   "cell_type": "code",
   "execution_count": 9,
   "id": "fcfc5815-1b76-4227-b8d9-74647a0b60b9",
   "metadata": {},
   "outputs": [
    {
     "data": {
      "text/html": [
       "<div>\n",
       "<style scoped>\n",
       "    .dataframe tbody tr th:only-of-type {\n",
       "        vertical-align: middle;\n",
       "    }\n",
       "\n",
       "    .dataframe tbody tr th {\n",
       "        vertical-align: top;\n",
       "    }\n",
       "\n",
       "    .dataframe thead th {\n",
       "        text-align: right;\n",
       "    }\n",
       "</style>\n",
       "<table border=\"1\" class=\"dataframe\">\n",
       "  <thead>\n",
       "    <tr style=\"text-align: right;\">\n",
       "      <th></th>\n",
       "      <th>Unnamed: 0</th>\n",
       "      <th>Unnamed: 0.1</th>\n",
       "      <th>attack_type</th>\n",
       "      <th>id</th>\n",
       "      <th>legs</th>\n",
       "      <th>localized_name</th>\n",
       "      <th>name</th>\n",
       "      <th>primary_attr</th>\n",
       "      <th>roles</th>\n",
       "    </tr>\n",
       "  </thead>\n",
       "  <tbody>\n",
       "    <tr>\n",
       "      <th>0</th>\n",
       "      <td>0</td>\n",
       "      <td>0</td>\n",
       "      <td>Melee</td>\n",
       "      <td>1</td>\n",
       "      <td>2</td>\n",
       "      <td>Anti-Mage</td>\n",
       "      <td>npc_dota_hero_antimage</td>\n",
       "      <td>agi</td>\n",
       "      <td>['Carry', 'Escape', 'Nuker']</td>\n",
       "    </tr>\n",
       "  </tbody>\n",
       "</table>\n",
       "</div>"
      ],
      "text/plain": [
       "   Unnamed: 0  Unnamed: 0.1 attack_type  id  legs localized_name  \\\n",
       "0           0             0       Melee   1     2      Anti-Mage   \n",
       "\n",
       "                     name primary_attr                         roles  \n",
       "0  npc_dota_hero_antimage          agi  ['Carry', 'Escape', 'Nuker']  "
      ]
     },
     "execution_count": 9,
     "metadata": {},
     "output_type": "execute_result"
    }
   ],
   "source": [
    "df.head(1)"
   ]
  }
 ],
 "metadata": {
  "kernelspec": {
   "display_name": "Python 3 (ipykernel)",
   "language": "python",
   "name": "python3"
  },
  "language_info": {
   "codemirror_mode": {
    "name": "ipython",
    "version": 3
   },
   "file_extension": ".py",
   "mimetype": "text/x-python",
   "name": "python",
   "nbconvert_exporter": "python",
   "pygments_lexer": "ipython3",
   "version": "3.7.15"
  }
 },
 "nbformat": 4,
 "nbformat_minor": 5
}
