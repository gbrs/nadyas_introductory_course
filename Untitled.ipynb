{
 "cells": [
  {
   "cell_type": "code",
   "execution_count": 1,
   "id": "675d7aa4-0dc9-46ba-adfc-a20956df2512",
   "metadata": {},
   "outputs": [],
   "source": [
    "import numpy as np\n",
    "import pandas as pd\n",
    "import matplotlib.pyplot as plt\n",
    "import seaborn as sns"
   ]
  },
  {
   "cell_type": "code",
   "execution_count": 2,
   "id": "407685de-023c-467e-94c9-3d9764d881cb",
   "metadata": {},
   "outputs": [],
   "source": [
    "sns.set()\n",
    "pd.set_option('display.max_columns', None)"
   ]
  },
  {
   "cell_type": "code",
   "execution_count": null,
   "id": "f7c1b954-4977-4a67-a6c6-6f7561b58678",
   "metadata": {},
   "outputs": [],
   "source": []
  },
  {
   "cell_type": "code",
   "execution_count": 3,
   "id": "af07d995-5e4d-48ef-8514-264303b95d87",
   "metadata": {},
   "outputs": [],
   "source": [
    "df = sns.load_dataset('taxis')"
   ]
  },
  {
   "cell_type": "markdown",
   "id": "11bab531-b4f9-4e69-bf77-0df9f27cf82a",
   "metadata": {},
   "source": [
    "tab, shift + tab"
   ]
  },
  {
   "cell_type": "markdown",
   "id": "7b8345f1-34a5-48bc-8013-640dc11fa20c",
   "metadata": {},
   "source": [
    "head, size, shape, info, describe"
   ]
  },
  {
   "cell_type": "code",
   "execution_count": null,
   "id": "d83f069c-4d3e-4099-95bf-d02334c589f0",
   "metadata": {},
   "outputs": [],
   "source": []
  },
  {
   "cell_type": "code",
   "execution_count": null,
   "id": "571a558c-5bb7-434a-b8ce-21318373476e",
   "metadata": {},
   "outputs": [],
   "source": []
  },
  {
   "cell_type": "code",
   "execution_count": null,
   "id": "4288b04d-2e6e-4802-bda6-e928490d4c20",
   "metadata": {},
   "outputs": [],
   "source": []
  },
  {
   "cell_type": "code",
   "execution_count": null,
   "id": "4d22c4c2-d24e-410e-a167-102ceab056d7",
   "metadata": {},
   "outputs": [],
   "source": []
  },
  {
   "cell_type": "code",
   "execution_count": null,
   "id": "5085fe8f-278a-4073-88af-3fe820d62c8f",
   "metadata": {},
   "outputs": [],
   "source": []
  },
  {
   "cell_type": "code",
   "execution_count": null,
   "id": "16b4e0f0-51a3-4258-93ec-e8e461b9c1f5",
   "metadata": {},
   "outputs": [],
   "source": []
  }
 ],
 "metadata": {
  "kernelspec": {
   "display_name": "Python 3",
   "language": "python",
   "name": "python3"
  },
  "language_info": {
   "codemirror_mode": {
    "name": "ipython",
    "version": 3
   },
   "file_extension": ".py",
   "mimetype": "text/x-python",
   "name": "python",
   "nbconvert_exporter": "python",
   "pygments_lexer": "ipython3",
   "version": "3.8.8"
  }
 },
 "nbformat": 4,
 "nbformat_minor": 5
}
