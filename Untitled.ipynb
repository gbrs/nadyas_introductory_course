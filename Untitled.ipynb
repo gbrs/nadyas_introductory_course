{
 "cells": [
  {
   "cell_type": "code",
   "execution_count": 1,
   "id": "675d7aa4-0dc9-46ba-adfc-a20956df2512",
   "metadata": {},
   "outputs": [],
   "source": [
    "import numpy as np\n",
    "import pandas as pd\n",
    "import matplotlib.pyplot as plt\n",
    "import seaborn as sns"
   ]
  },
  {
   "cell_type": "code",
   "execution_count": 2,
   "id": "407685de-023c-467e-94c9-3d9764d881cb",
   "metadata": {},
   "outputs": [],
   "source": [
    "sns.set()\n",
    "pd.set_option('display.max_columns', None)"
   ]
  },
  {
   "cell_type": "code",
   "execution_count": null,
   "id": "f7c1b954-4977-4a67-a6c6-6f7561b58678",
   "metadata": {},
   "outputs": [],
   "source": []
  },
  {
   "cell_type": "markdown",
   "id": "fefb37db-dd05-4620-8c83-8cab5301da6b",
   "metadata": {},
   "source": [
    "a, b, dd"
   ]
  },
  {
   "cell_type": "code",
   "execution_count": null,
   "id": "9085c86c-0f46-4a6a-9332-b7fe5d913dc4",
   "metadata": {},
   "outputs": [],
   "source": []
  },
  {
   "cell_type": "code",
   "execution_count": null,
   "id": "21a720f7-c12c-4cae-b745-e261dc0c8160",
   "metadata": {},
   "outputs": [],
   "source": []
  },
  {
   "cell_type": "code",
   "execution_count": 3,
   "id": "af07d995-5e4d-48ef-8514-264303b95d87",
   "metadata": {},
   "outputs": [],
   "source": [
    "df = sns.load_dataset('taxis')"
   ]
  },
  {
   "cell_type": "markdown",
   "id": "11bab531-b4f9-4e69-bf77-0df9f27cf82a",
   "metadata": {},
   "source": [
    "tab, shift + tab"
   ]
  },
  {
   "cell_type": "code",
   "execution_count": null,
   "id": "b71de1a6-c72d-478b-81b8-7dfc47a826c9",
   "metadata": {},
   "outputs": [],
   "source": []
  },
  {
   "cell_type": "code",
   "execution_count": null,
   "id": "020d0d4f-a400-400a-8f9c-95a10f40123e",
   "metadata": {},
   "outputs": [],
   "source": []
  },
  {
   "cell_type": "markdown",
   "id": "88aa863e-fbdd-4f5b-8bfe-914187a03496",
   "metadata": {},
   "source": [
    "### Обращение к ячейкам\n",
    "- обращение к колонке \n",
    "  - через []\n",
    "  - нескольким колонкам\n",
    "  - к колонке через точку\n",
    "- вывести только 12 строк"
   ]
  },
  {
   "cell_type": "code",
   "execution_count": null,
   "id": "4f4df21a-505e-4ffa-b681-792a5cf27089",
   "metadata": {},
   "outputs": [],
   "source": []
  },
  {
   "cell_type": "code",
   "execution_count": null,
   "id": "a45a6931-d4d9-4891-b13b-ffb0f97b2b82",
   "metadata": {},
   "outputs": [],
   "source": []
  },
  {
   "cell_type": "markdown",
   "id": "7b8345f1-34a5-48bc-8013-640dc11fa20c",
   "metadata": {},
   "source": [
    "### инфо\n",
    "head, size, shape, получить количество столбцов, info, columns"
   ]
  },
  {
   "cell_type": "code",
   "execution_count": null,
   "id": "d83f069c-4d3e-4099-95bf-d02334c589f0",
   "metadata": {},
   "outputs": [],
   "source": []
  },
  {
   "cell_type": "code",
   "execution_count": null,
   "id": "cb9e51d3-00f0-44b8-93b6-96a29a757964",
   "metadata": {},
   "outputs": [],
   "source": []
  },
  {
   "cell_type": "markdown",
   "id": "6afe2065-aa10-4f02-847c-b67d7ea6c1b3",
   "metadata": {},
   "source": [
    "### Статистика\n",
    "histplot, boxplot  \n",
    "min, max, sum, count, посчитать среднее, mean  \n",
    "median, quantile  \n",
    "var, std  \n",
    "mode   \n",
    "describe  \n",
    "corr, heatmap "
   ]
  },
  {
   "cell_type": "code",
   "execution_count": null,
   "id": "e8fc4e98-98de-496f-9a14-b9cb6fa98fad",
   "metadata": {},
   "outputs": [],
   "source": []
  },
  {
   "cell_type": "code",
   "execution_count": null,
   "id": "a1b1f3a6-4d47-4dcf-94aa-dbd8508a2163",
   "metadata": {},
   "outputs": [],
   "source": []
  },
  {
   "cell_type": "code",
   "execution_count": null,
   "id": "afcfe5ea-f1c1-4501-8def-0fbd115995b4",
   "metadata": {},
   "outputs": [],
   "source": []
  },
  {
   "cell_type": "code",
   "execution_count": null,
   "id": "429a4e34-00c9-40ee-b064-ac19a158f24e",
   "metadata": {},
   "outputs": [],
   "source": []
  },
  {
   "cell_type": "markdown",
   "id": "ffd43d45-27be-4aef-a180-df4488bb17cc",
   "metadata": {},
   "source": [
    "### ufunc\n",
    "- плата / дистанция\n",
    "- оплата = 10% (платы - пошлины) + чаевые"
   ]
  },
  {
   "cell_type": "code",
   "execution_count": null,
   "id": "4288b04d-2e6e-4802-bda6-e928490d4c20",
   "metadata": {},
   "outputs": [],
   "source": []
  },
  {
   "cell_type": "code",
   "execution_count": null,
   "id": "09007111-4648-4d7c-8562-41a1ec61f837",
   "metadata": {},
   "outputs": [],
   "source": []
  },
  {
   "cell_type": "markdown",
   "id": "8858b101-108d-41af-9bac-911f4a6006c0",
   "metadata": {},
   "source": [
    "### SQL\n",
    "фильтры, в т.ч. с | и &  \n",
    "groupby c sum, count, mean"
   ]
  },
  {
   "cell_type": "code",
   "execution_count": null,
   "id": "4d22c4c2-d24e-410e-a167-102ceab056d7",
   "metadata": {},
   "outputs": [],
   "source": []
  },
  {
   "cell_type": "code",
   "execution_count": null,
   "id": "be863137-8188-49fe-a02e-dd9116af48e5",
   "metadata": {},
   "outputs": [],
   "source": []
  },
  {
   "cell_type": "markdown",
   "id": "bb4f5998-795c-4094-b6ef-e473fed9970c",
   "metadata": {},
   "source": [
    "### Сводные таблицы"
   ]
  },
  {
   "cell_type": "code",
   "execution_count": null,
   "id": "3994002e-0764-4018-b73c-72850086e2b6",
   "metadata": {},
   "outputs": [],
   "source": []
  },
  {
   "cell_type": "code",
   "execution_count": null,
   "id": "b4b1f410-8af0-4ba8-84c7-bd6558b9403f",
   "metadata": {},
   "outputs": [],
   "source": []
  },
  {
   "cell_type": "code",
   "execution_count": null,
   "id": "f571fcec-f345-40fc-9d16-018fdc6fe506",
   "metadata": {},
   "outputs": [],
   "source": []
  },
  {
   "cell_type": "code",
   "execution_count": null,
   "id": "95c281e3-11d1-4652-b679-509b4cd170c0",
   "metadata": {
    "tags": []
   },
   "outputs": [],
   "source": []
  },
  {
   "cell_type": "code",
   "execution_count": null,
   "id": "03c8db73-a823-4916-82a2-bf448e31d1dd",
   "metadata": {},
   "outputs": [],
   "source": []
  },
  {
   "cell_type": "code",
   "execution_count": null,
   "id": "16b4e0f0-51a3-4258-93ec-e8e461b9c1f5",
   "metadata": {},
   "outputs": [],
   "source": []
  }
 ],
 "metadata": {
  "kernelspec": {
   "display_name": "Python 3",
   "language": "python",
   "name": "python3"
  },
  "language_info": {
   "codemirror_mode": {
    "name": "ipython",
    "version": 3
   },
   "file_extension": ".py",
   "mimetype": "text/x-python",
   "name": "python",
   "nbconvert_exporter": "python",
   "pygments_lexer": "ipython3",
   "version": "3.8.8"
  }
 },
 "nbformat": 4,
 "nbformat_minor": 5
}
